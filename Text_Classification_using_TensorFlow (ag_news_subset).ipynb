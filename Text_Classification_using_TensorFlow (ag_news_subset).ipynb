{
  "nbformat": 4,
  "nbformat_minor": 0,
  "metadata": {
    "colab": {
      "provenance": []
    },
    "kernelspec": {
      "name": "python3",
      "display_name": "Python 3"
    },
    "language_info": {
      "name": "python"
    }
  },
  "cells": [
    {
      "cell_type": "code",
      "execution_count": 1,
      "metadata": {
        "colab": {
          "base_uri": "https://localhost:8080/"
        },
        "id": "WlQSEGaOEjsW",
        "outputId": "7fad5272-4369-475d-af15-0203f249e3ea"
      },
      "outputs": [
        {
          "output_type": "stream",
          "name": "stdout",
          "text": [
            "Requirement already satisfied: tensorflow==2.15.0 in /usr/local/lib/python3.11/dist-packages (2.15.0)\n",
            "Requirement already satisfied: tensorflow-hub in /usr/local/lib/python3.11/dist-packages (0.16.1)\n",
            "Requirement already satisfied: keras==2.15.0 in /usr/local/lib/python3.11/dist-packages (2.15.0)\n",
            "Requirement already satisfied: absl-py>=1.0.0 in /usr/local/lib/python3.11/dist-packages (from tensorflow==2.15.0) (1.4.0)\n",
            "Requirement already satisfied: astunparse>=1.6.0 in /usr/local/lib/python3.11/dist-packages (from tensorflow==2.15.0) (1.6.3)\n",
            "Requirement already satisfied: flatbuffers>=23.5.26 in /usr/local/lib/python3.11/dist-packages (from tensorflow==2.15.0) (25.2.10)\n",
            "Requirement already satisfied: gast!=0.5.0,!=0.5.1,!=0.5.2,>=0.2.1 in /usr/local/lib/python3.11/dist-packages (from tensorflow==2.15.0) (0.6.0)\n",
            "Requirement already satisfied: google-pasta>=0.1.1 in /usr/local/lib/python3.11/dist-packages (from tensorflow==2.15.0) (0.2.0)\n",
            "Requirement already satisfied: h5py>=2.9.0 in /usr/local/lib/python3.11/dist-packages (from tensorflow==2.15.0) (3.12.1)\n",
            "Requirement already satisfied: libclang>=13.0.0 in /usr/local/lib/python3.11/dist-packages (from tensorflow==2.15.0) (18.1.1)\n",
            "Requirement already satisfied: ml-dtypes~=0.2.0 in /usr/local/lib/python3.11/dist-packages (from tensorflow==2.15.0) (0.2.0)\n",
            "Requirement already satisfied: numpy<2.0.0,>=1.23.5 in /usr/local/lib/python3.11/dist-packages (from tensorflow==2.15.0) (1.26.4)\n",
            "Requirement already satisfied: opt-einsum>=2.3.2 in /usr/local/lib/python3.11/dist-packages (from tensorflow==2.15.0) (3.4.0)\n",
            "Requirement already satisfied: packaging in /usr/local/lib/python3.11/dist-packages (from tensorflow==2.15.0) (24.2)\n",
            "Requirement already satisfied: protobuf!=4.21.0,!=4.21.1,!=4.21.2,!=4.21.3,!=4.21.4,!=4.21.5,<5.0.0dev,>=3.20.3 in /usr/local/lib/python3.11/dist-packages (from tensorflow==2.15.0) (4.25.6)\n",
            "Requirement already satisfied: setuptools in /usr/local/lib/python3.11/dist-packages (from tensorflow==2.15.0) (75.1.0)\n",
            "Requirement already satisfied: six>=1.12.0 in /usr/local/lib/python3.11/dist-packages (from tensorflow==2.15.0) (1.17.0)\n",
            "Requirement already satisfied: termcolor>=1.1.0 in /usr/local/lib/python3.11/dist-packages (from tensorflow==2.15.0) (2.5.0)\n",
            "Requirement already satisfied: typing-extensions>=3.6.6 in /usr/local/lib/python3.11/dist-packages (from tensorflow==2.15.0) (4.12.2)\n",
            "Requirement already satisfied: wrapt<1.15,>=1.11.0 in /usr/local/lib/python3.11/dist-packages (from tensorflow==2.15.0) (1.14.1)\n",
            "Requirement already satisfied: tensorflow-io-gcs-filesystem>=0.23.1 in /usr/local/lib/python3.11/dist-packages (from tensorflow==2.15.0) (0.37.1)\n",
            "Requirement already satisfied: grpcio<2.0,>=1.24.3 in /usr/local/lib/python3.11/dist-packages (from tensorflow==2.15.0) (1.71.0)\n",
            "Requirement already satisfied: tensorboard<2.16,>=2.15 in /usr/local/lib/python3.11/dist-packages (from tensorflow==2.15.0) (2.15.2)\n",
            "Requirement already satisfied: tensorflow-estimator<2.16,>=2.15.0 in /usr/local/lib/python3.11/dist-packages (from tensorflow==2.15.0) (2.15.0)\n",
            "Requirement already satisfied: tf-keras>=2.14.1 in /usr/local/lib/python3.11/dist-packages (from tensorflow-hub) (2.15.1)\n",
            "Requirement already satisfied: wheel<1.0,>=0.23.0 in /usr/local/lib/python3.11/dist-packages (from astunparse>=1.6.0->tensorflow==2.15.0) (0.45.1)\n",
            "Requirement already satisfied: google-auth<3,>=1.6.3 in /usr/local/lib/python3.11/dist-packages (from tensorboard<2.16,>=2.15->tensorflow==2.15.0) (2.38.0)\n",
            "Requirement already satisfied: google-auth-oauthlib<2,>=0.5 in /usr/local/lib/python3.11/dist-packages (from tensorboard<2.16,>=2.15->tensorflow==2.15.0) (1.2.1)\n",
            "Requirement already satisfied: markdown>=2.6.8 in /usr/local/lib/python3.11/dist-packages (from tensorboard<2.16,>=2.15->tensorflow==2.15.0) (3.7)\n",
            "Requirement already satisfied: requests<3,>=2.21.0 in /usr/local/lib/python3.11/dist-packages (from tensorboard<2.16,>=2.15->tensorflow==2.15.0) (2.32.3)\n",
            "Requirement already satisfied: tensorboard-data-server<0.8.0,>=0.7.0 in /usr/local/lib/python3.11/dist-packages (from tensorboard<2.16,>=2.15->tensorflow==2.15.0) (0.7.2)\n",
            "Requirement already satisfied: werkzeug>=1.0.1 in /usr/local/lib/python3.11/dist-packages (from tensorboard<2.16,>=2.15->tensorflow==2.15.0) (3.1.3)\n",
            "Requirement already satisfied: cachetools<6.0,>=2.0.0 in /usr/local/lib/python3.11/dist-packages (from google-auth<3,>=1.6.3->tensorboard<2.16,>=2.15->tensorflow==2.15.0) (5.5.2)\n",
            "Requirement already satisfied: pyasn1-modules>=0.2.1 in /usr/local/lib/python3.11/dist-packages (from google-auth<3,>=1.6.3->tensorboard<2.16,>=2.15->tensorflow==2.15.0) (0.4.1)\n",
            "Requirement already satisfied: rsa<5,>=3.1.4 in /usr/local/lib/python3.11/dist-packages (from google-auth<3,>=1.6.3->tensorboard<2.16,>=2.15->tensorflow==2.15.0) (4.9)\n",
            "Requirement already satisfied: requests-oauthlib>=0.7.0 in /usr/local/lib/python3.11/dist-packages (from google-auth-oauthlib<2,>=0.5->tensorboard<2.16,>=2.15->tensorflow==2.15.0) (2.0.0)\n",
            "Requirement already satisfied: charset-normalizer<4,>=2 in /usr/local/lib/python3.11/dist-packages (from requests<3,>=2.21.0->tensorboard<2.16,>=2.15->tensorflow==2.15.0) (3.4.1)\n",
            "Requirement already satisfied: idna<4,>=2.5 in /usr/local/lib/python3.11/dist-packages (from requests<3,>=2.21.0->tensorboard<2.16,>=2.15->tensorflow==2.15.0) (3.10)\n",
            "Requirement already satisfied: urllib3<3,>=1.21.1 in /usr/local/lib/python3.11/dist-packages (from requests<3,>=2.21.0->tensorboard<2.16,>=2.15->tensorflow==2.15.0) (2.3.0)\n",
            "Requirement already satisfied: certifi>=2017.4.17 in /usr/local/lib/python3.11/dist-packages (from requests<3,>=2.21.0->tensorboard<2.16,>=2.15->tensorflow==2.15.0) (2025.1.31)\n",
            "Requirement already satisfied: MarkupSafe>=2.1.1 in /usr/local/lib/python3.11/dist-packages (from werkzeug>=1.0.1->tensorboard<2.16,>=2.15->tensorflow==2.15.0) (3.0.2)\n",
            "Requirement already satisfied: pyasn1<0.7.0,>=0.4.6 in /usr/local/lib/python3.11/dist-packages (from pyasn1-modules>=0.2.1->google-auth<3,>=1.6.3->tensorboard<2.16,>=2.15->tensorflow==2.15.0) (0.6.1)\n",
            "Requirement already satisfied: oauthlib>=3.0.0 in /usr/local/lib/python3.11/dist-packages (from requests-oauthlib>=0.7.0->google-auth-oauthlib<2,>=0.5->tensorboard<2.16,>=2.15->tensorflow==2.15.0) (3.2.2)\n"
          ]
        }
      ],
      "source": [
        "!pip install tensorflow==2.15.0 tensorflow-hub keras==2.15.0\n",
        "import numpy as np\n",
        "import tensorflow as tf\n",
        "import tensorflow_hub as hub\n",
        "import tensorflow_datasets as tfds\n",
        "import pandas as pd"
      ]
    },
    {
      "cell_type": "code",
      "source": [
        "train_data, validation_data, test_data = tfds.load(name=\"ag_news_subset\",\n",
        "                                                   split=('train[:60%]', 'train[60%:]', 'test'),\n",
        "                                                   as_supervised=True)"
      ],
      "metadata": {
        "id": "BW4lvSTSEp2J"
      },
      "execution_count": 2,
      "outputs": []
    },
    {
      "cell_type": "code",
      "source": [
        "train_data\n",
        "print(\"GPU is\", \"available\" if tf.config.experimental.list_physical_devices(\"GPU\") else \"NOT AVAILABLE\")"
      ],
      "metadata": {
        "colab": {
          "base_uri": "https://localhost:8080/"
        },
        "id": "Efida9SYE5Pr",
        "outputId": "c7c946cb-dd31-416f-e00a-1bd892d8ee50"
      },
      "execution_count": 3,
      "outputs": [
        {
          "output_type": "stream",
          "name": "stdout",
          "text": [
            "GPU is NOT AVAILABLE\n"
          ]
        }
      ]
    },
    {
      "cell_type": "code",
      "source": [
        "train_example_batch, train_labels_batch = next(iter(train_data.batch(10)))"
      ],
      "metadata": {
        "id": "UxzNwzurFN1T"
      },
      "execution_count": 4,
      "outputs": []
    },
    {
      "cell_type": "code",
      "source": [
        "train_example_batch"
      ],
      "metadata": {
        "colab": {
          "base_uri": "https://localhost:8080/"
        },
        "id": "4NcAN4aRFQvb",
        "outputId": "ecc3b5ed-9a3b-4eef-8f49-b888b70f2b47"
      },
      "execution_count": 5,
      "outputs": [
        {
          "output_type": "execute_result",
          "data": {
            "text/plain": [
              "<tf.Tensor: shape=(10,), dtype=string, numpy=\n",
              "array([b'AMD #39;s new dual-core Opteron chip is designed mainly for corporate computing applications, including databases, Web services, and financial transactions.',\n",
              "       b'Reuters - Major League Baseball\\\\Monday announced a decision on the appeal filed by Chicago Cubs\\\\pitcher Kerry Wood regarding a suspension stemming from an\\\\incident earlier this season.',\n",
              "       b'President Bush #39;s  quot;revenue-neutral quot; tax reform needs losers to balance its winners, and people claiming the federal deduction for state and local taxes may be in administration planners #39; sights, news reports say.',\n",
              "       b'Britain will run out of leading scientists unless science education is improved, says Professor Colin Pillinger.',\n",
              "       b'London, England (Sports Network) - England midfielder Steven Gerrard injured his groin late in Thursday #39;s training session, but is hopeful he will be ready for Saturday #39;s World Cup qualifier against Austria.',\n",
              "       b'TOKYO - Sony Corp. is banking on the \\\\$3 billion deal to acquire Hollywood studio Metro-Goldwyn-Mayer Inc...',\n",
              "       b'Giant pandas may well prefer bamboo to laptops, but wireless technology is helping researchers in China in their efforts to protect the engandered animals living in the remote Wolong Nature Reserve.',\n",
              "       b'VILNIUS, Lithuania - Lithuania #39;s main parties formed an alliance to try to keep a Russian-born tycoon and his populist promises out of the government in Sunday #39;s second round of parliamentary elections in this Baltic country.',\n",
              "       b'Witnesses in the trial of a US soldier charged with abusing prisoners at Abu Ghraib have told the court that the CIA sometimes directed abuse and orders were received from military command to toughen interrogations.',\n",
              "       b'Dan Olsen of Ponte Vedra Beach, Fla., shot a 7-under 65 Thursday to take a one-shot lead after two rounds of the PGA Tour qualifying tournament.'],\n",
              "      dtype=object)>"
            ]
          },
          "metadata": {},
          "execution_count": 5
        }
      ]
    },
    {
      "cell_type": "code",
      "source": [
        " train_labels_batch"
      ],
      "metadata": {
        "colab": {
          "base_uri": "https://localhost:8080/"
        },
        "id": "O5YN-v00FcFy",
        "outputId": "9bf1191e-0aa5-43f8-cd0c-4bd743aab4d2"
      },
      "execution_count": 6,
      "outputs": [
        {
          "output_type": "execute_result",
          "data": {
            "text/plain": [
              "<tf.Tensor: shape=(10,), dtype=int64, numpy=array([3, 1, 2, 3, 1, 0, 3, 0, 0, 1])>"
            ]
          },
          "metadata": {},
          "execution_count": 6
        }
      ]
    },
    {
      "cell_type": "code",
      "source": [
        "embedding = \"https://tfhub.dev/google/tf2-preview/gnews-swivel-20dim/1\""
      ],
      "metadata": {
        "id": "X-TSSEjjFfUz"
      },
      "execution_count": 7,
      "outputs": []
    },
    {
      "cell_type": "code",
      "source": [
        "hub_layer = hub.KerasLayer(embedding, input_shape=[],\n",
        "                           dtype=tf.string, trainable=True)"
      ],
      "metadata": {
        "id": "_baRDuQGHF-n"
      },
      "execution_count": 8,
      "outputs": []
    },
    {
      "cell_type": "code",
      "source": [
        "hub_layer(train_example_batch[:3])"
      ],
      "metadata": {
        "colab": {
          "base_uri": "https://localhost:8080/"
        },
        "id": "HeLBQ0VuJx0k",
        "outputId": "d449cd58-6cdb-48a1-b130-812328d1bc59"
      },
      "execution_count": 9,
      "outputs": [
        {
          "output_type": "execute_result",
          "data": {
            "text/plain": [
              "<tf.Tensor: shape=(3, 20), dtype=float32, numpy=\n",
              "array([[ 1.4586596 , -0.22270747,  1.7708323 ,  1.9534097 ,  1.2787155 ,\n",
              "         0.10514727,  1.6557657 , -1.69676   , -2.3956175 , -3.1235514 ,\n",
              "         1.9141243 ,  1.7303494 , -2.2757962 ,  0.55892617,  0.9924717 ,\n",
              "        -1.8745328 ,  1.7581484 ,  0.36097184,  2.1421185 , -1.9464955 ],\n",
              "       [-3.1687405 , -0.8680503 ,  0.22489524,  0.8019142 ,  1.4973278 ,\n",
              "         1.4691905 ,  0.34958157, -1.1848819 , -0.35689202,  1.2081021 ,\n",
              "        -1.6422368 , -1.648375  ,  0.58841795, -0.27546963,  0.7328136 ,\n",
              "         1.7875123 , -0.27011397, -1.1866195 , -1.0566308 ,  2.1479883 ],\n",
              "       [-1.2233101 , -0.37048745,  1.0669774 ,  0.8257882 ,  1.7866129 ,\n",
              "        -2.4578087 ,  0.9420228 , -0.17693122, -0.44748542,  0.2637198 ,\n",
              "         1.5832659 , -0.99717855, -1.3851663 ,  0.28552565,  0.604694  ,\n",
              "         0.7792836 ,  2.8988218 , -2.5159223 ,  0.42583808,  0.54979295]],\n",
              "      dtype=float32)>"
            ]
          },
          "metadata": {},
          "execution_count": 9
        }
      ]
    },
    {
      "cell_type": "code",
      "source": [
        "model = tf.keras.Sequential()\n",
        "model.add(hub_layer)\n",
        "model.add(tf.keras.layers.Dense(16, activation='relu'))\n",
        "model.add(tf.keras.layers.Dense(1))"
      ],
      "metadata": {
        "id": "YlJnwLe_KBRL"
      },
      "execution_count": 10,
      "outputs": []
    },
    {
      "cell_type": "code",
      "source": [
        "model.summary()"
      ],
      "metadata": {
        "colab": {
          "base_uri": "https://localhost:8080/"
        },
        "id": "lM8xXtEEK1FK",
        "outputId": "98b08ef7-7830-4156-e69c-1cee9c2c6cb4"
      },
      "execution_count": 11,
      "outputs": [
        {
          "output_type": "stream",
          "name": "stdout",
          "text": [
            "Model: \"sequential\"\n",
            "_________________________________________________________________\n",
            " Layer (type)                Output Shape              Param #   \n",
            "=================================================================\n",
            " keras_layer (KerasLayer)    (None, 20)                400020    \n",
            "                                                                 \n",
            " dense (Dense)               (None, 16)                336       \n",
            "                                                                 \n",
            " dense_1 (Dense)             (None, 1)                 17        \n",
            "                                                                 \n",
            "=================================================================\n",
            "Total params: 400373 (1.53 MB)\n",
            "Trainable params: 400373 (1.53 MB)\n",
            "Non-trainable params: 0 (0.00 Byte)\n",
            "_________________________________________________________________\n"
          ]
        }
      ]
    },
    {
      "cell_type": "code",
      "source": [
        "model.compile(optimizer='adam',\n",
        "              loss=tf.keras.losses.BinaryCrossentropy(from_logits=True),\n",
        "              metrics=['accuracy'])"
      ],
      "metadata": {
        "id": "ALgJqMxtOmuI"
      },
      "execution_count": 12,
      "outputs": []
    },
    {
      "cell_type": "code",
      "source": [
        "history = model.fit(train_data.shuffle(10000).batch(500),\n",
        "                    epochs=25,\n",
        "                    validation_data=validation_data.batch(500),\n",
        "                    verbose=1)"
      ],
      "metadata": {
        "colab": {
          "base_uri": "https://localhost:8080/"
        },
        "id": "7WX51-BePGTN",
        "outputId": "5dbb602c-d25d-463a-916b-ec49207f3176"
      },
      "execution_count": 16,
      "outputs": [
        {
          "output_type": "stream",
          "name": "stdout",
          "text": [
            "Epoch 1/25\n",
            "144/144 [==============================] - 11s 74ms/step - loss: -83819.0312 - accuracy: 0.2498 - val_loss: -87938.1562 - val_accuracy: 0.2522\n",
            "Epoch 2/25\n",
            "144/144 [==============================] - 4s 28ms/step - loss: -93678.0703 - accuracy: 0.2498 - val_loss: -98039.0703 - val_accuracy: 0.2522\n",
            "Epoch 3/25\n",
            "144/144 [==============================] - 4s 28ms/step - loss: -104162.5859 - accuracy: 0.2498 - val_loss: -108752.3203 - val_accuracy: 0.2522\n",
            "Epoch 4/25\n",
            "144/144 [==============================] - 6s 38ms/step - loss: -115278.4531 - accuracy: 0.2497 - val_loss: -120099.0000 - val_accuracy: 0.2522\n",
            "Epoch 5/25\n",
            "144/144 [==============================] - 6s 37ms/step - loss: -127040.9219 - accuracy: 0.2497 - val_loss: -132091.9531 - val_accuracy: 0.2522\n",
            "Epoch 6/25\n",
            "144/144 [==============================] - 4s 28ms/step - loss: -139458.3281 - accuracy: 0.2497 - val_loss: -144731.7969 - val_accuracy: 0.2522\n",
            "Epoch 7/25\n",
            "144/144 [==============================] - 6s 37ms/step - loss: -152536.0000 - accuracy: 0.2497 - val_loss: -158053.0781 - val_accuracy: 0.2522\n",
            "Epoch 8/25\n",
            "144/144 [==============================] - 4s 29ms/step - loss: -166287.4531 - accuracy: 0.2497 - val_loss: -172017.3125 - val_accuracy: 0.2522\n",
            "Epoch 9/25\n",
            "144/144 [==============================] - 5s 32ms/step - loss: -180715.2344 - accuracy: 0.2497 - val_loss: -186653.4375 - val_accuracy: 0.2522\n",
            "Epoch 10/25\n",
            "144/144 [==============================] - 4s 29ms/step - loss: -195830.0938 - accuracy: 0.2497 - val_loss: -201992.1562 - val_accuracy: 0.2522\n",
            "Epoch 11/25\n",
            "144/144 [==============================] - 6s 37ms/step - loss: -211644.3594 - accuracy: 0.2497 - val_loss: -218030.3594 - val_accuracy: 0.2522\n",
            "Epoch 12/25\n",
            "144/144 [==============================] - 4s 28ms/step - loss: -228168.2344 - accuracy: 0.2497 - val_loss: -234791.6875 - val_accuracy: 0.2522\n",
            "Epoch 13/25\n",
            "144/144 [==============================] - 5s 32ms/step - loss: -245408.7969 - accuracy: 0.2497 - val_loss: -252227.1719 - val_accuracy: 0.2522\n",
            "Epoch 14/25\n",
            "144/144 [==============================] - 4s 28ms/step - loss: -263366.9688 - accuracy: 0.2497 - val_loss: -270406.3438 - val_accuracy: 0.2522\n",
            "Epoch 15/25\n",
            "144/144 [==============================] - 6s 37ms/step - loss: -282063.5938 - accuracy: 0.2497 - val_loss: -289350.8438 - val_accuracy: 0.2522\n",
            "Epoch 16/25\n",
            "144/144 [==============================] - 4s 28ms/step - loss: -301510.5312 - accuracy: 0.2497 - val_loss: -308972.0312 - val_accuracy: 0.2522\n",
            "Epoch 17/25\n",
            "144/144 [==============================] - 4s 28ms/step - loss: -321706.5625 - accuracy: 0.2497 - val_loss: -329370.2500 - val_accuracy: 0.2522\n",
            "Epoch 18/25\n",
            "144/144 [==============================] - 6s 38ms/step - loss: -342667.0312 - accuracy: 0.2497 - val_loss: -350568.5000 - val_accuracy: 0.2522\n",
            "Epoch 19/25\n",
            "144/144 [==============================] - 6s 37ms/step - loss: -364402.9688 - accuracy: 0.2497 - val_loss: -372526.9375 - val_accuracy: 0.2522\n",
            "Epoch 20/25\n",
            "144/144 [==============================] - 4s 29ms/step - loss: -386922.6562 - accuracy: 0.2497 - val_loss: -395253.0625 - val_accuracy: 0.2522\n",
            "Epoch 21/25\n",
            "144/144 [==============================] - 6s 37ms/step - loss: -410236.2188 - accuracy: 0.2497 - val_loss: -418740.2188 - val_accuracy: 0.2522\n",
            "Epoch 22/25\n",
            "144/144 [==============================] - 5s 36ms/step - loss: -434346.8125 - accuracy: 0.2497 - val_loss: -443094.6250 - val_accuracy: 0.2522\n",
            "Epoch 23/25\n",
            "144/144 [==============================] - 4s 28ms/step - loss: -459282.4062 - accuracy: 0.2497 - val_loss: -468180.4375 - val_accuracy: 0.2522\n",
            "Epoch 24/25\n",
            "144/144 [==============================] - 4s 28ms/step - loss: -485030.2188 - accuracy: 0.2497 - val_loss: -494150.1875 - val_accuracy: 0.2522\n",
            "Epoch 25/25\n",
            "144/144 [==============================] - 6s 37ms/step - loss: -511607.1250 - accuracy: 0.2497 - val_loss: -520917.5000 - val_accuracy: 0.2522\n"
          ]
        }
      ]
    },
    {
      "cell_type": "code",
      "source": [
        "results = model.evaluate(test_data.batch(500), verbose=2)\n",
        "\n",
        "for name, value in zip(model.metrics_names, results):\n",
        "    print(\"%s: %.3f\" % (name, value))"
      ],
      "metadata": {
        "colab": {
          "base_uri": "https://localhost:8080/"
        },
        "id": "OTn1RQk0QEWC",
        "outputId": "f592e148-deab-4e65-984f-b5656ddcaeae"
      },
      "execution_count": 17,
      "outputs": [
        {
          "output_type": "stream",
          "name": "stdout",
          "text": [
            "16/16 - 0s - loss: -5.2408e+05 - accuracy: 0.2507 - 246ms/epoch - 15ms/step\n",
            "loss: -524082.125\n",
            "accuracy: 0.251\n"
          ]
        }
      ]
    },
    {
      "cell_type": "code",
      "source": [],
      "metadata": {
        "id": "xG_N2TcIS0iR"
      },
      "execution_count": null,
      "outputs": []
    }
  ]
}